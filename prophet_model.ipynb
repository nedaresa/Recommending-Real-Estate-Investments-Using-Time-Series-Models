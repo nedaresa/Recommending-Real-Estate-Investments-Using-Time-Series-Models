{
 "cells": [
  {
   "cell_type": "markdown",
   "metadata": {},
   "source": [
    "# Running the Prophet Model on selected zipcodes"
   ]
  },
  {
   "cell_type": "code",
   "execution_count": null,
   "metadata": {},
   "outputs": [],
   "source": [
    "import pandas as pd\n",
    "import numpy as np\n",
    "import matplotlib\n",
    "import matplotlib.pyplot as plt\n",
    "from datetime import datetime\n",
    "from matplotlib.pylab import rcParams\n",
    "%matplotlib inline\n",
    "import warnings\n",
    "from fbprophet import Prophet as proph\n",
    "import seaborn as sns\n",
    "import pickle\n",
    "import random\n",
    "import functions as fn\n",
    "\n",
    "plt.style.use('fivethirtyeight')\n",
    "warnings.filterwarnings('ignore')"
   ]
  },
  {
   "cell_type": "code",
   "execution_count": null,
   "metadata": {},
   "outputs": [],
   "source": [
    "#Running the annualised_returns notebook to generate the pickle.\n",
    "\n",
    "%run ./annualised_return.ipynb"
   ]
  },
  {
   "cell_type": "code",
   "execution_count": null,
   "metadata": {},
   "outputs": [],
   "source": [
    "#Retrieving the two pickle files; the train data pickle and the annualised_returns pickle\n",
    "\n",
    "with open('train.pickle', 'rb') as f:\n",
    "    train_df = pickle.load(f)\n",
    "\n",
    "with open('annualised_returns.pickle', 'rb') as f:\n",
    "    annualised_returns = pickle.load(f)"
   ]
  },
  {
   "cell_type": "markdown",
   "metadata": {},
   "source": [
    "Subsetting the list of zipcodes that yielded over 15 annualised return (noted as over15pct in the annualised_return notebook).  "
   ]
  },
  {
   "cell_type": "code",
   "execution_count": null,
   "metadata": {},
   "outputs": [],
   "source": [
    "over15pct = list(annualised_returns.loc[annualised_returns['Ann_returns'] > 0.15]['RegionName'])"
   ]
  },
  {
   "cell_type": "code",
   "execution_count": null,
   "metadata": {},
   "outputs": [],
   "source": [
    "#Creating a list with the unique zipcodes in the train set.\n",
    "\n",
    "unique = list((train_df['RegionName'].unique()))"
   ]
  },
  {
   "cell_type": "markdown",
   "metadata": {},
   "source": [
    "The zipcodes from the annualised return list are also present in the training set as these come from the same source file."
   ]
  },
  {
   "cell_type": "markdown",
   "metadata": {},
   "source": [
    "## Running a prophet model for a zipcode drawn at random from the annualised return list"
   ]
  },
  {
   "cell_type": "code",
   "execution_count": null,
   "metadata": {},
   "outputs": [],
   "source": [
    "#Selecting a random zipcode\n",
    "\n",
    "random_zip = random.choice(over15pct)"
   ]
  },
  {
   "cell_type": "code",
   "execution_count": null,
   "metadata": {},
   "outputs": [],
   "source": [
    "#Generating a new dataframe with the value of the zipcode at the different dates\n",
    "\n",
    "test_zip_df = train_df.loc[(train_df['RegionName'] == random_zip)][['time', 'value']]"
   ]
  },
  {
   "cell_type": "code",
   "execution_count": null,
   "metadata": {},
   "outputs": [],
   "source": [
    "# Renaming the columns [time, value] to [ds, y] as required by the prophet model\n",
    "\n",
    "test_zip_df = test_zip_df.rename(columns={'time': 'ds', 'value': 'y'})"
   ]
  },
  {
   "cell_type": "code",
   "execution_count": null,
   "metadata": {
    "scrolled": true
   },
   "outputs": [],
   "source": [
    "# Plotting the timeseries from the random zipcode\n",
    "\n",
    "idx = test_zip_df.set_index('ds')\n",
    "sns.lineplot(idx.index, idx['y'])\n",
    "plt.title(f'Median value of homes in zipcode {random_zip} / month')\n",
    "plt.xlabel('Date')\n",
    "plt.show();"
   ]
  },
  {
   "cell_type": "markdown",
   "metadata": {},
   "source": [
    "Initiating the prophet model"
   ]
  },
  {
   "cell_type": "code",
   "execution_count": null,
   "metadata": {},
   "outputs": [],
   "source": [
    "#Calling the model and fitting the time series from the randomly selected zipcode.\n",
    "\n",
    "Model = proph(interval_width=0.95) #Setting the uncertainty interval to 95%.\n",
    "Model.fit(test_zip_df)"
   ]
  },
  {
   "cell_type": "code",
   "execution_count": null,
   "metadata": {},
   "outputs": [],
   "source": [
    "#Using the make_future_dataframe function with a monthly frequency and 36 monthly periods. \n",
    "\n",
    "future_dates = Model.make_future_dataframe(periods=36, freq='MS')\n",
    "future_dates.tail()"
   ]
  },
  {
   "cell_type": "code",
   "execution_count": null,
   "metadata": {},
   "outputs": [],
   "source": [
    "#Predicting the values for future dates.\n",
    "\n",
    "forecast = Model.predict(future_dates)"
   ]
  },
  {
   "cell_type": "code",
   "execution_count": null,
   "metadata": {},
   "outputs": [],
   "source": [
    "#Subsetting the relevant columns.\n",
    "\n",
    "forecast[['ds', 'yhat', 'yhat_lower', 'yhat_upper']]"
   ]
  },
  {
   "cell_type": "code",
   "execution_count": null,
   "metadata": {},
   "outputs": [],
   "source": [
    "#Using prophet's plot function to plot the predictions\n",
    "\n",
    "Model.plot(forecast, uncertainty=True)\n",
    "plt.show()"
   ]
  },
  {
   "cell_type": "markdown",
   "metadata": {},
   "source": [
    "After a successful prophet model for one zipcode, we do the same for the remaining 206."
   ]
  },
  {
   "cell_type": "markdown",
   "metadata": {},
   "source": [
    "## Running a prophet model for all zipcodes drawn in the annualised return list"
   ]
  },
  {
   "cell_type": "code",
   "execution_count": null,
   "metadata": {
    "scrolled": false
   },
   "outputs": [],
   "source": [
    "best_past_performers = fn.prophet_forecast(train_df, over15pct)"
   ]
  },
  {
   "cell_type": "code",
   "execution_count": null,
   "metadata": {},
   "outputs": [],
   "source": [
    "merged = fn.dict_to_df(best_past_performers)"
   ]
  },
  {
   "cell_type": "code",
   "execution_count": null,
   "metadata": {},
   "outputs": [],
   "source": [
    "#returning the range for the years we are forecasting\n",
    "years = range(2018, 2022)\n",
    "#creating a list which will contain each year's first date. (Prediction start from June)\n",
    "year_month_list = [datetime.strptime(f'{year}-06-01', '%Y-%m-%d').date() for year in years]\n",
    "#subseting the merged dataframe to only include the specified dates in year_month_list\n",
    "forecast_returns = merged.loc[merged['ds'].isin(year_month_list)]"
   ]
  },
  {
   "cell_type": "code",
   "execution_count": null,
   "metadata": {},
   "outputs": [],
   "source": [
    "#Calculating each forecasted years return and dropping arising null values.\n",
    "\n",
    "forecast_returns['returns'] = forecast_returns['yhat'].div(forecast_returns.groupby('RegionName')['yhat'].shift(1))\n",
    "forecast_returns = forecast_returns.dropna(subset=['returns'])"
   ]
  },
  {
   "cell_type": "code",
   "execution_count": null,
   "metadata": {},
   "outputs": [],
   "source": [
    "forecast_returns = fn.annualised_returns(forecast_returns)"
   ]
  },
  {
   "cell_type": "code",
   "execution_count": null,
   "metadata": {},
   "outputs": [],
   "source": [
    "plt.hist(forecast_returns['Ann_returns'])\n",
    "plt.title('Distribution of predicted annualised returns');"
   ]
  },
  {
   "cell_type": "code",
   "execution_count": null,
   "metadata": {},
   "outputs": [],
   "source": [
    "top_forecast_returns= forecast_returns.loc[forecast_returns['Ann_returns'] > 0.15]\n",
    "print(f'The number of zipcodes that have yielded a predicted annualised return of over 15% is {len(top_forecast_returns)}.')"
   ]
  },
  {
   "cell_type": "code",
   "execution_count": null,
   "metadata": {},
   "outputs": [],
   "source": [
    "top_forecast_returns"
   ]
  },
  {
   "cell_type": "markdown",
   "metadata": {},
   "source": [
    "Saving the subset of zipcodes that are predicted to generate an annualised rate of return of over 15% for the next 3 years."
   ]
  },
  {
   "cell_type": "code",
   "execution_count": null,
   "metadata": {},
   "outputs": [],
   "source": [
    "with open('pred_returns.pickle', 'wb') as f:\n",
    "    pickle.dump(top_forecast_returns, f, pickle.HIGHEST_PROTOCOL)"
   ]
  }
 ],
 "metadata": {
  "kernelspec": {
   "display_name": "Python [conda env:learn-env] *",
   "language": "python",
   "name": "conda-env-learn-env-py"
  },
  "language_info": {
   "codemirror_mode": {
    "name": "ipython",
    "version": 3
   },
   "file_extension": ".py",
   "mimetype": "text/x-python",
   "name": "python",
   "nbconvert_exporter": "python",
   "pygments_lexer": "ipython3",
   "version": "3.6.6"
  }
 },
 "nbformat": 4,
 "nbformat_minor": 2
}
