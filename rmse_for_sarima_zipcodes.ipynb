{
 "cells": [
  {
   "cell_type": "markdown",
   "metadata": {},
   "source": [
    "# Calculating the RMSE on top performing zipcodes"
   ]
  },
  {
   "cell_type": "markdown",
   "metadata": {},
   "source": [
    "### Objective"
   ]
  },
  {
   "cell_type": "markdown",
   "metadata": {},
   "source": [
    "To calculate the RMSE on the zipcodes retrieved from the SARIMA model in order to test our model predictions. The calculations will be performed between the test_df, generated after the data retrieval, and the predictions dataframe generated from the SARIMA model."
   ]
  },
  {
   "cell_type": "code",
   "execution_count": null,
   "metadata": {},
   "outputs": [],
   "source": [
    "import pandas as pd\n",
    "import numpy as np\n",
    "import matplotlib\n",
    "import matplotlib.pyplot as plt\n",
    "from matplotlib.pylab import rcParams\n",
    "%matplotlib inline\n",
    "import datetime\n",
    "import seaborn as sns\n",
    "import statsmodels.api as sm\n",
    "import warnings\n",
    "import pickle\n",
    "import functions as fn\n",
    "\n",
    "plt.style.use('fivethirtyeight')\n",
    "warnings.filterwarnings('ignore')"
   ]
  },
  {
   "cell_type": "code",
   "execution_count": null,
   "metadata": {},
   "outputs": [],
   "source": [
    "#Openning the corresponding files.\n",
    "\n",
    "with open('test.pickle', 'rb') as f:\n",
    "    test_df = pickle.load(f)\n",
    "    \n",
    "with open('pred_20zipcodes.pickle', 'rb') as f:\n",
    "    pred_29zipcodes = pickle.load(f)"
   ]
  },
  {
   "cell_type": "code",
   "execution_count": null,
   "metadata": {},
   "outputs": [],
   "source": [
    "#Converting the SARIMA model predictions into a meaningful dataframe\n",
    "\n",
    "preds = pd.DataFrame(data=None)\n",
    "for i in pred_29zipcodes.keys():\n",
    "    df=pd.DataFrame()\n",
    "    df['date']= pred_29zipcodes[i].conf_int().index\n",
    "    df['RegionName'] = i\n",
    "    df['pred_mean'] = np.array(pred_29zipcodes[i].predicted_mean)\n",
    "    preds = pd.concat([preds, df], axis=0)"
   ]
  },
  {
   "cell_type": "code",
   "execution_count": null,
   "metadata": {},
   "outputs": [],
   "source": [
    "#Ensuring that the SARIMA selected zipcodes exist in the test_df and making a list\n",
    "#of the combined zipcodes.\n",
    "\n",
    "pred_zips = list(preds['RegionName'].unique())\n",
    "\n",
    "test_zips = list(test_df['RegionName'].unique())\n",
    "\n",
    "intersection = list(set(pred_zips).intersection(test_zips))"
   ]
  },
  {
   "cell_type": "code",
   "execution_count": null,
   "metadata": {},
   "outputs": [],
   "source": [
    "#Running the retrieving_zipcode_info function to retrieve a zipcode specific dictionary\n",
    "#with the corresponding monthly mean zipcode value.\n",
    "\n",
    "test_dict = fn.retrieving_zipcode_info(test_df, intersection)"
   ]
  },
  {
   "cell_type": "code",
   "execution_count": null,
   "metadata": {},
   "outputs": [],
   "source": [
    "test_dict.keys()"
   ]
  },
  {
   "cell_type": "code",
   "execution_count": null,
   "metadata": {},
   "outputs": [],
   "source": [
    "#Converting the dictionary into a dataframe.\n",
    "\n",
    "test_df_merged = pd.DataFrame(data=None)\n",
    "for i in test_dict.keys():\n",
    "    df = pd.DataFrame()\n",
    "    df['date'] = test_dict[i].index\n",
    "    df['RegionName'] = i\n",
    "    df['actual_returns'] = np.array(test_dict[i]['value'])\n",
    "    test_df_merged = pd.concat([test_df_merged, df], axis=0)\n",
    "    \n",
    "test_df_merged.reset_index(inplace=True)\n",
    "test_df_merged.drop('index', axis=1, inplace=True)"
   ]
  },
  {
   "cell_type": "code",
   "execution_count": null,
   "metadata": {},
   "outputs": [],
   "source": [
    "test_df_merged.head()"
   ]
  },
  {
   "cell_type": "markdown",
   "metadata": {},
   "source": [
    "Predictions dataframe contains data for the next 3 years, however, the test_df only has data until July 2019. Therefore we need to aling both dataframes before merging.\n"
   ]
  },
  {
   "cell_type": "code",
   "execution_count": null,
   "metadata": {},
   "outputs": [],
   "source": [
    "#Dropping unnecesary dates.\n",
    "\n",
    "preds = preds.drop(preds[preds['date'] > datetime.date(2019, 7, 1)].index)\n",
    "preds.reset_index(inplace=True)\n",
    "preds.drop('index', axis=1, inplace=True)"
   ]
  },
  {
   "cell_type": "code",
   "execution_count": null,
   "metadata": {},
   "outputs": [],
   "source": [
    "#Concatinate both dataframes to have both the predictions and the test values in the same df.\n",
    "\n",
    "divergence = pd.merge(test_df_merged, preds, left_index=True, right_index=True)"
   ]
  },
  {
   "cell_type": "code",
   "execution_count": null,
   "metadata": {},
   "outputs": [],
   "source": [
    "divergence.head()"
   ]
  },
  {
   "cell_type": "code",
   "execution_count": null,
   "metadata": {},
   "outputs": [],
   "source": [
    "#Dropping repeated columns.\n",
    "\n",
    "divergence.drop(['date_y', 'RegionName_y'], axis=1, inplace=True)"
   ]
  },
  {
   "cell_type": "markdown",
   "metadata": {},
   "source": [
    "Calculating the root_mean_squared_error between the predicted data and the testing data."
   ]
  },
  {
   "cell_type": "code",
   "execution_count": null,
   "metadata": {},
   "outputs": [],
   "source": [
    "rmse_sarima_zipcodes = fn.rmse(divergence)"
   ]
  },
  {
   "cell_type": "code",
   "execution_count": null,
   "metadata": {},
   "outputs": [],
   "source": [
    "rmse_sarima_zipcodes"
   ]
  },
  {
   "cell_type": "code",
   "execution_count": null,
   "metadata": {},
   "outputs": [],
   "source": [
    "#Saving the sorted list of rmse into a pickle.\n",
    "\n",
    "with open('rmse_sarima_zipcodes.pickle', 'wb') as f:\n",
    "    pickle.dump(rmse_sarima_zipcodes, f)"
   ]
  }
 ],
 "metadata": {
  "kernelspec": {
   "display_name": "Python [conda env:learn-env] *",
   "language": "python",
   "name": "conda-env-learn-env-py"
  },
  "language_info": {
   "codemirror_mode": {
    "name": "ipython",
    "version": 3
   },
   "file_extension": ".py",
   "mimetype": "text/x-python",
   "name": "python",
   "nbconvert_exporter": "python",
   "pygments_lexer": "ipython3",
   "version": "3.6.6"
  }
 },
 "nbformat": 4,
 "nbformat_minor": 2
}
