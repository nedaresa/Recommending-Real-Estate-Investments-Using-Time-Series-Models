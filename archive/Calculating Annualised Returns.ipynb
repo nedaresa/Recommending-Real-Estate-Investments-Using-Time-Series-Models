{
 "cells": [
  {
   "cell_type": "markdown",
   "metadata": {},
   "source": [
    "# Calculating Annualised Returns for all Zipcodes in Zillow DataSet"
   ]
  },
  {
   "cell_type": "code",
   "execution_count": null,
   "metadata": {},
   "outputs": [],
   "source": [
    "import pandas as pd\n",
    "import numpy as np\n",
    "from datetime import datetime\n",
    "import matplotlib\n",
    "import matplotlib.pyplot as plt\n",
    "%matplotlib inline\n",
    "import pickle"
   ]
  },
  {
   "cell_type": "markdown",
   "metadata": {},
   "source": [
    "Retrieve the data from the zillow research data page (https://www.zillow.com/research/data/). Upon arrival at the page, navigate to the \"Home Values\" Section. From the \"Data Type\" dropdown select \"ZHVI Single-Family Home Time Series\" and from the \"Geography\" dropdown select \"Zip Code\". Then proceed to download the data."
   ]
  },
  {
   "cell_type": "code",
   "execution_count": null,
   "metadata": {},
   "outputs": [],
   "source": [
    "#Importing the download dataset\n",
    "zillow_df = pd.read_csv('Zip_Zhvi_SingleFamilyResidence.csv', encoding='ISO-8859-1')\n",
    "zillow_df.head()"
   ]
  },
  {
   "cell_type": "markdown",
   "metadata": {},
   "source": [
    "In the dataframe above, zipcodes are represented by the column \"RegionName\""
   ]
  },
  {
   "cell_type": "code",
   "execution_count": null,
   "metadata": {},
   "outputs": [],
   "source": [
    "unique_zips = len(zillow_df['RegionName'].unique())\n",
    "\n",
    "print(f'There are {unique_zips} unique zipcodes')"
   ]
  },
  {
   "cell_type": "code",
   "execution_count": null,
   "metadata": {},
   "outputs": [],
   "source": [
    "def melt_data(df):\n",
    "    \"\"\"Function to melt a dataframe in order to turn the dates from individual columns into a single column\n",
    "    with multiple rows.\"\"\"\n",
    "    \n",
    "    melted = pd.melt(df, \n",
    "                     id_vars=['RegionID', 'RegionName', 'City', 'State', 'Metro', 'CountyName', 'SizeRank'],\n",
    "                     var_name='time') #melting only the different the date columns in a single date column.\n",
    "    \n",
    "    melted['time'] = pd.to_datetime(melted['time'], infer_datetime_format=True) \n",
    "    melted = melted.dropna(subset=['value'])\n",
    "    melted = melted.groupby(['time', 'RegionName']).aggregate({'value':'mean'}) #grouping by time and zipcodes and \n",
    "    # aggregating the monthly data by the mean value of each zipcode at each given date.  \n",
    "    zipcode_mean_monthly_return = melted.reset_index()\n",
    "\n",
    "    return zipcode_mean_monthly_return"
   ]
  },
  {
   "cell_type": "code",
   "execution_count": null,
   "metadata": {},
   "outputs": [],
   "source": [
    "zillow = melt_data(zillow_df)"
   ]
  },
  {
   "cell_type": "markdown",
   "metadata": {},
   "source": [
    "As mentioned above, we are will be subseting the dataframe to only include data from January 1st 2012 until January 1st 2018 as part of our training set."
   ]
  },
  {
   "cell_type": "code",
   "execution_count": null,
   "metadata": {},
   "outputs": [],
   "source": [
    "years = range(2012, 2019)\n",
    "year_month_list = [datetime.strptime(f'{year}-01-01', '%Y-%m-%d').date() for year in years] #creating a list which \n",
    "#will each year's first date. \n",
    "zillow_foy = zillow.loc[zillow['time'].isin(year_month_list)] #subseting the zillow dataframe to only include the \n",
    "#specified dates in year_month_list"
   ]
  },
  {
   "cell_type": "markdown",
   "metadata": {},
   "source": [
    "In order to calculate annualised returns we have to perform the following calculations: \n",
    "\n",
    "    1. Calculate YoY return: y1 = (x2-x1)/x1 or y1 = (x2/x1)-1 \n",
    "        1.1 x1 will represent each beginning year value 2012-01-01, 2013-01-01, ..., 2017-01-01\n",
    "        1.2 x2 will represent each ending year value 2013-01-01, 2014-01-01, ..., 2018-01-01\n",
    "    \n",
    "    2. Calculate the compound return: (1+y1)(1+y2)...(1+yN)^1/number of periods (years)\n",
    "        2.2 (1+y1) can be represented the following ways: (1+((x2-x1)/x1)) = ((1+(x2/x1)-1) = (x2/x1)\n",
    "        2.3 Therefore, the compound becomes: (x2/x1)(x3/x2)...(xN/x(N-1))^1/number of periods (years)\n",
    "    \n",
    "    3. Calculating the annualised return: compound return-1\n",
    "        3.1 ((1+y1)(1+y2)...(1+yN)^1/number of periods)-1 "
   ]
  },
  {
   "cell_type": "code",
   "execution_count": null,
   "metadata": {},
   "outputs": [],
   "source": [
    "#Calculating (x2/x1) for each year and for all the different zipcodes\n",
    "\n",
    "zillow_foy['returns'] = zillow_foy['value'].div(zillow_foy.groupby('RegionName')['value'].shift(1))"
   ]
  },
  {
   "cell_type": "code",
   "execution_count": null,
   "metadata": {},
   "outputs": [],
   "source": [
    "#Dropping the NaNs that have appeared in the year 2012, since that is the first year of data and we can't \n",
    "#calculate the return from 2011 to 2012 (not in the dataset)\n",
    "\n",
    "zillow_foy = zillow_foy.dropna(subset=['returns'])"
   ]
  },
  {
   "cell_type": "markdown",
   "metadata": {},
   "source": [
    "NOTE: Some of the zipcodes don't have data dating back to 2012, therefore these NaN values are also dropped during the step above."
   ]
  },
  {
   "cell_type": "code",
   "execution_count": null,
   "metadata": {},
   "outputs": [],
   "source": [
    "#Observing the YoY returns for the smallest zipcode in the dataset.\n",
    "\n",
    "zillow_foy.loc[(zillow_foy['RegionName'] == 1001)]"
   ]
  },
  {
   "cell_type": "code",
   "execution_count": null,
   "metadata": {},
   "outputs": [],
   "source": [
    "def annualised_returns(df):\n",
    "    \"\"\"Function to calculate the annualised return for each zipcode from 2012-01-01 to 2018-01-01\"\"\"\n",
    "    \n",
    "    annualised_return = {} #Given that the result will be one figure, it is best to store it in a dictionary\n",
    "    #where the key will be the zipcode and the value will be the annualised return.\n",
    "    for zipcode in df['RegionName']:\n",
    "        returns = list(zillow_foy.loc[(zillow_foy['RegionName'] == zipcode)]['returns'])\n",
    "        \n",
    "        tot_return = 1\n",
    "        for r in returns:\n",
    "            tot_return = tot_return * r \n",
    "        annualised = (tot_return ** (1/len(returns))) - 1\n",
    "        annualised_return[zipcode] = annualised \n",
    "        \n",
    "    #Turning the pandas dictionary with the annualised returns into a pandas dataframe. \n",
    "    zipcode_ann_returns_df = pd.DataFrame(list(zipcode_ann_returns.items()),\n",
    "                                          columns=['RegionName', 'Ann_returns'])\n",
    "    \n",
    "    #Sorting the dataframe to show the zipcodes with the highest annualised returns in order to have a peak into\n",
    "    #which zipcodes have performed the best for the timeframe selected.\n",
    "    zipcode_ann_returns_df = zipcode_ann_returns_df.sort_values('Ann_returns', ascending=False)\n",
    "    \n",
    "    \n",
    "    return annualised_return"
   ]
  },
  {
   "cell_type": "code",
   "execution_count": null,
   "metadata": {},
   "outputs": [],
   "source": [
    "zipcode_ann_returns = annualised_returns(zillow_foy)"
   ]
  },
  {
   "cell_type": "code",
   "execution_count": null,
   "metadata": {},
   "outputs": [],
   "source": [
    "#Visualising the distribution of annualised returns through a histogram\n",
    "\n",
    "plt.figure(figsize=(11, 7))\n",
    "plt.hist(zipcode_ann_returns['Ann_returns']);"
   ]
  },
  {
   "cell_type": "code",
   "execution_count": null,
   "metadata": {},
   "outputs": [],
   "source": [
    "over15pct = zipcode_ann_returns[zipcode_ann_returns['Ann_returns'] > 0.15]\n",
    "print(f'The number of zipcodes that have yielded an annualised return of over 15% is {len(over15pct)}.')"
   ]
  },
  {
   "cell_type": "code",
   "execution_count": null,
   "metadata": {},
   "outputs": [],
   "source": [
    "#Saving the sorted list of annualised returns into a pickle.\n",
    "\n",
    "with open('annualised_returns.pickle', 'wb') as f:\n",
    "    pickle.dump(zipcode_ann_returns, f)"
   ]
  }
 ],
 "metadata": {
  "kernelspec": {
   "display_name": "Python 3",
   "language": "python",
   "name": "python3"
  },
  "language_info": {
   "codemirror_mode": {
    "name": "ipython",
    "version": 3
   },
   "file_extension": ".py",
   "mimetype": "text/x-python",
   "name": "python",
   "nbconvert_exporter": "python",
   "pygments_lexer": "ipython3",
   "version": "3.7.3"
  }
 },
 "nbformat": 4,
 "nbformat_minor": 2
}
