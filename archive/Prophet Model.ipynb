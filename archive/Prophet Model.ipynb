{
 "cells": [
  {
   "cell_type": "markdown",
   "metadata": {},
   "source": [
    "# Running the Prophet Model on the selected Zipcodes"
   ]
  },
  {
   "cell_type": "code",
   "execution_count": null,
   "metadata": {},
   "outputs": [],
   "source": [
    "import pandas as pd\n",
    "import numpy as np\n",
    "import matplotlib\n",
    "import matplotlib.pyplot as plt\n",
    "from datetime import datetime\n",
    "from matplotlib.pylab import rcParams\n",
    "%matplotlib inline\n",
    "import warnings\n",
    "from fbprophet import Prophet as proph\n",
    "import pickle\n",
    "import random\n",
    "\n",
    "plt.style.use('fivethirtyeight')\n",
    "warnings.filterwarnings('ignore')"
   ]
  },
  {
   "cell_type": "code",
   "execution_count": null,
   "metadata": {},
   "outputs": [],
   "source": [
    "#Running the updated_zillow_data notebook in order to retrieve the splitted dataset.\n",
    "\n",
    "%run ./updated_zillow_data.ipynb"
   ]
  },
  {
   "cell_type": "code",
   "execution_count": null,
   "metadata": {},
   "outputs": [],
   "source": [
    "#Retrieving the two pickle files; one contains the train data and the other contains the test data.\n",
    "\n",
    "with open('train.pickle', 'rb') as f:\n",
    "    train_df = pickle.load(f)\n",
    "\n",
    "with open('test.pickle', 'rb') as f:\n",
    "    test_df = pickle.load(f)"
   ]
  },
  {
   "cell_type": "code",
   "execution_count": null,
   "metadata": {},
   "outputs": [],
   "source": [
    "#Retrieving the one last pickle file which will contain the zipcodes with an annualised return of over 15%;\n",
    "\n",
    "with open('annualised_returns.pickle', 'rb') as f:\n",
    "    annualised_returns = pickle.load(f)"
   ]
  },
  {
   "cell_type": "code",
   "execution_count": null,
   "metadata": {},
   "outputs": [],
   "source": [
    "train_df.head()"
   ]
  },
  {
   "cell_type": "code",
   "execution_count": null,
   "metadata": {},
   "outputs": [],
   "source": [
    "#Creating a list with the unique zipcodes in the train set.\n",
    "\n",
    "unique = list((train_df['RegionName'].unique()))"
   ]
  },
  {
   "cell_type": "code",
   "execution_count": null,
   "metadata": {},
   "outputs": [],
   "source": [
    "annualised_returns.head()"
   ]
  },
  {
   "cell_type": "code",
   "execution_count": null,
   "metadata": {},
   "outputs": [],
   "source": [
    "#Creating a list with the zipcodes whose annualised return yielded over 15%.\n",
    "\n",
    "over15pct = list(annualised_returns.loc[annualised_returns['Ann_returns'] > 0.15]['RegionName'])"
   ]
  },
  {
   "cell_type": "markdown",
   "metadata": {},
   "source": [
    "The zipcodes from the annualised return list are also present in the training set as these come from the same source file."
   ]
  },
  {
   "cell_type": "markdown",
   "metadata": {},
   "source": [
    "## Running a prophet model for a zipcode drawn at random from the annualised return list"
   ]
  },
  {
   "cell_type": "code",
   "execution_count": null,
   "metadata": {},
   "outputs": [],
   "source": [
    "#Selecting a random zipcode\n",
    "\n",
    "random_zip = random.choice(over15pct)"
   ]
  },
  {
   "cell_type": "code",
   "execution_count": null,
   "metadata": {},
   "outputs": [],
   "source": [
    "#Generating a new dataframe with the value of the zipcode at the different dates\n",
    "\n",
    "test_zip_df = train_df.loc[(train_df['RegionName'] == random_zip)][['time', 'value']]"
   ]
  },
  {
   "cell_type": "code",
   "execution_count": null,
   "metadata": {},
   "outputs": [],
   "source": [
    "# Renaming the columns [time, value] to [ds, y] as required by the prophet model\n",
    "\n",
    "test_zip_df = test_zip_df.rename(columns={'time': 'ds', 'value': 'y'})"
   ]
  },
  {
   "cell_type": "code",
   "execution_count": null,
   "metadata": {
    "scrolled": true
   },
   "outputs": [],
   "source": [
    "# Plotting the timeseries from the random zipcode\n",
    "\n",
    "idx = test_zip_df.set_index('ds')\n",
    "sns.lineplot(idx.index, idx['y'])\n",
    "plt.title(f'Median value of homes in zipcode {random_zip} / month')\n",
    "plt.xlabel('Date')\n",
    "plt.show();"
   ]
  },
  {
   "cell_type": "code",
   "execution_count": null,
   "metadata": {},
   "outputs": [],
   "source": [
    "#Calling the prophet model and fitting the time series from the randomly selected zipcode.\n",
    "\n",
    "Model = proph(interval_width=0.95) #Setting the uncertainty interval to 95% (the Prophet default is 80%).\n",
    "Model.fit(test_zip_df)"
   ]
  },
  {
   "cell_type": "code",
   "execution_count": null,
   "metadata": {},
   "outputs": [],
   "source": [
    "#Using the make_future_dataframe function with a monthly frequency and periods = 36 which represents 3 years \n",
    "\n",
    "future_dates = Model.make_future_dataframe(periods=36, freq='MS')\n",
    "future_dates.tail()"
   ]
  },
  {
   "cell_type": "code",
   "execution_count": null,
   "metadata": {},
   "outputs": [],
   "source": [
    "#Predicting the values for future dates and take the head of forecast\n",
    "\n",
    "forecast = Model.predict(future_dates)\n",
    "forecast.head()"
   ]
  },
  {
   "cell_type": "code",
   "execution_count": null,
   "metadata": {},
   "outputs": [],
   "source": [
    "#Subset above mentioned columns and view the tail \n",
    "\n",
    "forecast[['ds', 'yhat', 'yhat_lower', 'yhat_upper']].tail()"
   ]
  },
  {
   "cell_type": "code",
   "execution_count": null,
   "metadata": {},
   "outputs": [],
   "source": [
    "#Using prophet's plot function to plot the predictions\n",
    "\n",
    "Model.plot(forecast, uncertainty=True)\n",
    "plt.show()"
   ]
  },
  {
   "cell_type": "code",
   "execution_count": null,
   "metadata": {},
   "outputs": [],
   "source": [
    "Model.plot_components(forecast)\n",
    "plt.show()"
   ]
  },
  {
   "cell_type": "markdown",
   "metadata": {},
   "source": [
    "## Running a prophet model for all zipcodes drawn in the annualised return list"
   ]
  },
  {
   "cell_type": "code",
   "execution_count": null,
   "metadata": {},
   "outputs": [],
   "source": [
    "def prophet_forecast(df, intersection):\n",
    "    \"\"\" Function that when inputed a dataframe and a list of zipcodes, retrieves a dictionary containing each\n",
    "    zipcode as a key and the forecasted values from the Prophet model associated with that zipcode as values.\n",
    "    \"\"\"\n",
    "    \n",
    "    forecasts = {}\n",
    "    \n",
    "    for zipcode in intersection:\n",
    "        returns = df.loc[(df['RegionName'] == zipcode)][['time', 'value']]\n",
    "        returns = returns.rename(columns={'time': 'ds','value': 'y'})\n",
    "\n",
    "        Model = proph(interval_width=0.95)\n",
    "        Model.fit(returns)\n",
    "\n",
    "        future_dates = Model.make_future_dataframe(periods=36, freq='MS')\n",
    "        forecast = Model.predict(future_dates)\n",
    "\n",
    "        forecasts[zipcode] = forecast[['ds', 'yhat', 'yhat_lower', 'yhat_upper']]\n",
    "\n",
    "    return forecasts"
   ]
  },
  {
   "cell_type": "code",
   "execution_count": null,
   "metadata": {
    "scrolled": false
   },
   "outputs": [],
   "source": [
    "best_past_performers = retrieving_zipcode_info(train_df, over15pct)"
   ]
  },
  {
   "cell_type": "code",
   "execution_count": null,
   "metadata": {},
   "outputs": [],
   "source": [
    "def dict_to_df(dictionary):\n",
    "    \"\"\" Function that strips the dictionary into individual dataframes and appends one after the other \n",
    "    to create a merged dataframe.\n",
    "    \"\"\"\n",
    "\n",
    "    merged = pd.DataFrame(data=None)\n",
    "    for i in dictionary.keys():\n",
    "        df = dictionary[i]\n",
    "        df['RegionName'] = i\n",
    "        merged = pd.concat([merged, df], axis=0)\n",
    "    \n",
    "    return merged"
   ]
  },
  {
   "cell_type": "code",
   "execution_count": null,
   "metadata": {},
   "outputs": [],
   "source": [
    "merged = dict_to_df(best_past_performers)"
   ]
  },
  {
   "cell_type": "code",
   "execution_count": null,
   "metadata": {},
   "outputs": [],
   "source": [
    "from datetime import datetime\n",
    "\n",
    "years = range(2017, 2021)\n",
    "year_month_list = [datetime.strptime(f'{year}-06-01', '%Y-%m-%d').date() for year in years]\n",
    "forecast_returns = merged.loc[merged['ds'].isin(year_month_list)]"
   ]
  },
  {
   "cell_type": "code",
   "execution_count": null,
   "metadata": {},
   "outputs": [],
   "source": [
    "forecast_returns['returns'] = forecast_returns['yhat'].div(forecast_returns.groupby('RegionName')['yhat'].shift(1))"
   ]
  },
  {
   "cell_type": "code",
   "execution_count": null,
   "metadata": {},
   "outputs": [],
   "source": [
    "forecast_returns = forecast_returns.dropna(subset=['returns'])"
   ]
  },
  {
   "cell_type": "code",
   "execution_count": null,
   "metadata": {},
   "outputs": [],
   "source": [
    "def predicted_annualised_returns(df):\n",
    "    \n",
    "    pred_annualised_return = {}\n",
    "    \n",
    "    for zipcode in df['RegionName']:\n",
    "        returns = list(df.loc[(df['RegionName'] == zipcode)]['returns'])\n",
    "        \n",
    "        tot_return = 1\n",
    "        for r in returns:\n",
    "            tot_return = tot_return * r \n",
    "        \n",
    "        pred_annualised = (tot_return ** (1/len(returns))) - 1\n",
    "        pred_annualised_return[zipcode] = pred_annualised \n",
    "        \n",
    "    pred_annualised_return = pd.DataFrame(list(pred_annualised_return.items()),\n",
    "                                      columns=['RegionName', 'Ann_returns'])\n",
    "    \n",
    "    pred_annualised_return = pred_annualised_return.sort_values('Ann_returns', ascending=False)\n",
    "    \n",
    "    return pred_annualised_return"
   ]
  },
  {
   "cell_type": "code",
   "execution_count": null,
   "metadata": {},
   "outputs": [],
   "source": [
    "forecast_returns = predicted_annualised_returns(forecast_returns)"
   ]
  },
  {
   "cell_type": "code",
   "execution_count": null,
   "metadata": {},
   "outputs": [],
   "source": [
    "plt.hist(forecast_returns['Ann_returns'])"
   ]
  },
  {
   "cell_type": "code",
   "execution_count": null,
   "metadata": {},
   "outputs": [],
   "source": [
    "top_forecast_returns= forecast_returns.loc[forecast_returns['Ann_returns'] > 0.15]\n",
    "print(f'The number of zipcodes that have yielded an annualised return of over 15% is {len(top_forecast_returns)}.')"
   ]
  },
  {
   "cell_type": "code",
   "execution_count": null,
   "metadata": {},
   "outputs": [],
   "source": [
    "top_forecast_returns"
   ]
  },
  {
   "cell_type": "code",
   "execution_count": null,
   "metadata": {},
   "outputs": [],
   "source": [
    "with open('pred_returns.pickle', 'wb') as f:\n",
    "    pickle.dump(top_forecast_returns, f, pickle.HIGHEST_PROTOCOL)"
   ]
  }
 ],
 "metadata": {
  "kernelspec": {
   "display_name": "Python [conda env:learn-env] *",
   "language": "python",
   "name": "conda-env-learn-env-py"
  },
  "language_info": {
   "codemirror_mode": {
    "name": "ipython",
    "version": 3
   },
   "file_extension": ".py",
   "mimetype": "text/x-python",
   "name": "python",
   "nbconvert_exporter": "python",
   "pygments_lexer": "ipython3",
   "version": "3.6.6"
  }
 },
 "nbformat": 4,
 "nbformat_minor": 2
}
