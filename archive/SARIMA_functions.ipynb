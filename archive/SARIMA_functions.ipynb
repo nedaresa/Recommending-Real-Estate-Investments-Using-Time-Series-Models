{
 "cells": [
  {
   "cell_type": "code",
   "execution_count": null,
   "metadata": {},
   "outputs": [],
   "source": [
    "#Neda Jabbari\n",
    "#Aug 27th, 2019"
   ]
  },
  {
   "cell_type": "code",
   "execution_count": null,
   "metadata": {},
   "outputs": [],
   "source": []
  },
  {
   "cell_type": "code",
   "execution_count": null,
   "metadata": {},
   "outputs": [],
   "source": [
    "\n",
    "def retrieving_zipcode_info(df, intersection):\n",
    "    '''This function takes a dataframe and a list of zipcodes as intersection and \n",
    "    returns a dictionary of zipcodes as keys and dataframe with a time index for every zipcode'''\n",
    "    top20zipcode = {}\n",
    "    \n",
    "    for zipcode in intersection:\n",
    "        returns = df.loc[(df['RegionName'] == zipcode)][['time', 'value']]\n",
    "        returns = returns.set_index('time')\n",
    "\n",
    "        top20zipcode[zipcode] = returns\n",
    "\n",
    "    return top20zipcode\n",
    "\n",
    "\n"
   ]
  }
 ],
 "metadata": {
  "kernelspec": {
   "display_name": "Python 3",
   "language": "python",
   "name": "python3"
  },
  "language_info": {
   "codemirror_mode": {
    "name": "ipython",
    "version": 3
   },
   "file_extension": ".py",
   "mimetype": "text/x-python",
   "name": "python",
   "nbconvert_exporter": "python",
   "pygments_lexer": "ipython3",
   "version": "3.7.3"
  }
 },
 "nbformat": 4,
 "nbformat_minor": 2
}
