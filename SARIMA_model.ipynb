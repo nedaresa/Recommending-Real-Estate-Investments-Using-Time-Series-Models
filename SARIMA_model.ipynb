{
 "cells": [
  {
   "cell_type": "markdown",
   "metadata": {},
   "source": [
    "### Objective \n",
    "\n",
    "Here, we perform a SARIMA model on 29 select zipcodes to subset the top five zipcodes that are evaluated to be most promising for real estate investment.\n",
    "\n",
    "\n",
    "#### A description of the workflow that performs a SARIMA time series model on 29 selected zipcodes.\n",
    "\n",
    "\n",
    "- Based on the prophet model evaluation of price forcast and calculated predicted annualized returns for every zipcode in a timeframe of 3 years (2018 until 2021), 29 zipcodes with a predicted annualized return of above 15% were selected for SARIMA forcast performed in this workflow.\n",
    "\n",
    "- Modify the train dataset to only include the top 29 zipcodes.\n",
    "\n",
    "- Find pdq and seasonal pdq parameters within a selected range that are associated with the best AIC value.\n",
    "\n",
    "- Perform SARIMA model on one example zipcode in the train dataset to predict for up to 5 years in future using pdq and seasonal pdq parameters associated with the best AIC value.\n",
    "\n",
    "- Perform SARIMA on all 29 zipcodes to predict for up to 5 years in future using pdq and seasonal pdq parameters associated with the best AIC value. \n",
    "\n",
    "- Calculate predicted annualized return values using train dataset from 2012-01 until 2018-06 and sort them based on a descending order. \n",
    "\n",
    "- Top zipcodes sorted by their predicted annualized return values are further explored based on a comparison of predicted vs real prices (test dataset) to narrow down to a selection of top 5."
   ]
  },
  {
   "cell_type": "code",
   "execution_count": null,
   "metadata": {},
   "outputs": [],
   "source": [
    "#load necessary packages\n",
    "import pandas as pd\n",
    "import numpy as np\n",
    "import pickle\n",
    "import itertools\n",
    "from datetime import datetime\n",
    "import statsmodels.api as sm\n",
    "import functions as fn\n",
    "import matplotlib.pyplot as plt\n",
    "plt.style.use('ggplot')"
   ]
  },
  {
   "cell_type": "code",
   "execution_count": null,
   "metadata": {},
   "outputs": [],
   "source": [
    "#load and list the 29 zipcodes with top forcast returns of above 15% for years 2017-2021(based on prophet forcast) \n",
    "with open('pred_returns.pickle', 'rb') as f:\n",
    "    top29zipcode_df = pickle.load(f)\n",
    "    \n",
    "zipcode_list = list(top29zipcode_df['RegionName'])"
   ]
  },
  {
   "cell_type": "code",
   "execution_count": null,
   "metadata": {},
   "outputs": [],
   "source": [
    "#load the data train dataset\n",
    "with open('train.pickle', 'rb') as f:\n",
    "    train_df = pickle.load(f)"
   ]
  },
  {
   "cell_type": "code",
   "execution_count": null,
   "metadata": {},
   "outputs": [],
   "source": [
    "train_df.head()"
   ]
  },
  {
   "cell_type": "code",
   "execution_count": null,
   "metadata": {},
   "outputs": [],
   "source": [
    "#get the list of zipcodes present in both train dataset and zipcodes with top forcast returns\n",
    "unique = list((train_df['RegionName'].unique()))\n",
    "topzipcodes = list(set(zipcode_list).intersection(unique))\n",
    "topzipcodes"
   ]
  },
  {
   "cell_type": "code",
   "execution_count": null,
   "metadata": {},
   "outputs": [],
   "source": [
    "# import retrieving_zipcode_info. See as an example the dataframe for zipcode 32905\n",
    "top29zipcode_dicts= fn.retrieving_zipcode_info(train_df, topzipcodes)"
   ]
  },
  {
   "cell_type": "markdown",
   "metadata": {},
   "source": [
    "# Perform SARIMA\n",
    "\n",
    "1. Perform a SARIMA model for an example zipcode 32905 and generate output model plots. \n",
    "2. Perform a SARIMA model for all zipcodes."
   ]
  },
  {
   "cell_type": "markdown",
   "metadata": {},
   "source": [
    "## Perform an initial SARIMA model for an example zipcode 32905 and generate output model plots: "
   ]
  },
  {
   "cell_type": "code",
   "execution_count": null,
   "metadata": {},
   "outputs": [],
   "source": [
    "# Define the p, d and q parameters to take any value between 0 and 2\n",
    "p = d = q = range(0, 2)\n",
    "\n",
    "# Generate all different combinations of p, q and q.\n",
    "pdq = list(itertools.product(p, d, q))\n",
    "\n",
    "# Generate all different combinations of seasonal p, q and q.\n",
    "pdqs = [(x[0], x[1], x[2], 12) for x in list(itertools.product(p, d, q))]"
   ]
  },
  {
   "cell_type": "code",
   "execution_count": null,
   "metadata": {},
   "outputs": [],
   "source": [
    "# Run a grid with pdq and seasonal pdq parameters calculated above and get the best AIC value for an example zipcode 94085. \n",
    "ans = []\n",
    "for comb in pdq:\n",
    "    for combs in pdqs:\n",
    "        try:\n",
    "            mod = sm.tsa.statespace.SARIMAX(top29zipcode_dicts[94085],\n",
    "                                            order=comb,\n",
    "                                            seasonal_order=combs,\n",
    "                                            enforce_stationarity=False,\n",
    "                                            enforce_invertibility=False)\n",
    "\n",
    "            output = mod.fit()\n",
    "            ans.append([comb, combs, output.aic])\n",
    "            print('ARIMA {} x {}12 : AIC Calculated ={}'.format(comb, combs, output.aic))\n",
    "        except:\n",
    "            continue\n",
    "            \n",
    "# Find the parameters with minimal AIC value.\n",
    "ans_df = pd.DataFrame(ans, columns=['pdq', 'pdqs', 'aic'])\n",
    "ans_df.loc[ans_df['aic'].idxmin()]\n",
    "\n",
    "\n",
    "#perform a SARIMA model on example zipcode 94085\n",
    "\n",
    "SARIMA_MODEL = sm.tsa.statespace.SARIMAX(top29zipcode_dicts[94085],\n",
    "                                order=(1, 1, 1),\n",
    "                                seasonal_order=(1, 1, 1, 12),\n",
    "                                enforce_stationarity=False,\n",
    "                                enforce_invertibility=False)\n",
    "\n",
    "output = SARIMA_MODEL.fit()\n",
    "\n",
    "print(output.summary().tables[1])"
   ]
  },
  {
   "cell_type": "code",
   "execution_count": null,
   "metadata": {},
   "outputs": [],
   "source": [
    "#plot output to evaluate \n",
    "output.plot_diagnostics(figsize=(15, 18))\n",
    "plt.show()"
   ]
  },
  {
   "cell_type": "code",
   "execution_count": null,
   "metadata": {},
   "outputs": [],
   "source": [
    "# Get forecast for 60 steps ahead in future for zipcode 94085\n",
    "prediction = output.get_forecast(steps=60)\n",
    "\n",
    "# Get confidence intervals of forecasts for zipcode 94085\n",
    "pred_conf = prediction.conf_int()\n",
    "pred_conf.tail()"
   ]
  },
  {
   "cell_type": "code",
   "execution_count": null,
   "metadata": {},
   "outputs": [],
   "source": [
    "#The plot suggests the predicted mean of the median prices and 95% CIs for the example zipcode 94085. \n",
    "\n",
    "ax = top29zipcode_dicts[94085].plot(label='observed', figsize=(20, 15))\n",
    "prediction.predicted_mean.plot(ax=ax, label='Forecast')\n",
    "ax.fill_between(pred_conf.index,\n",
    "                pred_conf.iloc[:, 0],\n",
    "                pred_conf.iloc[:, 1], color='k', alpha=.25)\n",
    "ax.set_xlabel('Date')\n",
    "ax.set_ylabel('Price')\n",
    "\n",
    "plt.legend(['observed', 'forcast'])\n",
    "plt.show()"
   ]
  },
  {
   "cell_type": "markdown",
   "metadata": {},
   "source": [
    "## Perform a SARIMA model for all zipcodes."
   ]
  },
  {
   "cell_type": "code",
   "execution_count": null,
   "metadata": {},
   "outputs": [],
   "source": [
    "pred_29zipcodes={}\n",
    "for zipcode in top29zipcode_dicts.keys():\n",
    "    pred_29zipcodes[zipcode]= fn.model_SARIMA_zipcode(top29zipcode_dicts[zipcode],pdq,pdqs)"
   ]
  },
  {
   "cell_type": "code",
   "execution_count": null,
   "metadata": {},
   "outputs": [],
   "source": [
    "merged = pd.DataFrame(data=None)\n",
    "for i in pred_29zipcodes.keys():\n",
    "    df=pd.DataFrame()\n",
    "    df['date']= pred_29zipcodes[i].conf_int().index\n",
    "    df['RegionName'] = i\n",
    "    df['pred_mean'] = np.array(pred_29zipcodes[i].predicted_mean)\n",
    "    df['lower_value']=np.array(pred_29zipcodes[i].conf_int()['lower value'])\n",
    "    df['upper_value']=np.array(pred_29zipcodes[i].conf_int()['upper value'])\n",
    "    merged = pd.concat([merged, df], axis=0)"
   ]
  },
  {
   "cell_type": "code",
   "execution_count": null,
   "metadata": {},
   "outputs": [],
   "source": [
    "merged.tail()"
   ]
  },
  {
   "cell_type": "markdown",
   "metadata": {},
   "source": [
    "## Calculate annualized returns for SARIMA model forcasts from 2018 to 2023 for all 20 zipcodes.\n",
    "\n",
    "I calculated the annualized returns for SARIMA model forcasts between years 2018 to 2023 for all 29 zipcodes."
   ]
  },
  {
   "cell_type": "code",
   "execution_count": null,
   "metadata": {},
   "outputs": [],
   "source": [
    "#subset the merge dataframe to only get the data from 2018-07-01 to 2022-07-01\n",
    "years = range(2018, 2023)\n",
    "year_month_list = [datetime.strptime(f'{year}-07-01', '%Y-%m-%d').date() for year in years]\n",
    "forecast_returns = merged.loc[merged['date'].isin(year_month_list)]\n",
    "forecast_returns.head()"
   ]
  },
  {
   "cell_type": "code",
   "execution_count": null,
   "metadata": {},
   "outputs": [],
   "source": [
    "#subset the merge dataframe to only get the data from 2018 to 2023.\n",
    "forecast_returns['returns'] = forecast_returns['pred_mean'].div(\n",
    "    forecast_returns.groupby('RegionName')['pred_mean'].shift(1))"
   ]
  },
  {
   "cell_type": "code",
   "execution_count": null,
   "metadata": {},
   "outputs": [],
   "source": [
    "forecast_returns = forecast_returns.dropna(subset=['returns'])"
   ]
  },
  {
   "cell_type": "markdown",
   "metadata": {},
   "source": [
    "Run the function annualised_returns below to get a dataframe consisting of predicted annualized returns for all zipcodes (29).  "
   ]
  },
  {
   "cell_type": "code",
   "execution_count": null,
   "metadata": {},
   "outputs": [],
   "source": [
    "forecast_returns = fn.annualised_returns(forecast_returns)"
   ]
  },
  {
   "cell_type": "code",
   "execution_count": null,
   "metadata": {},
   "outputs": [],
   "source": [
    "print(f\"Sorted predicted annual returns: {forecast_returns['Ann_returns']}\")"
   ]
  },
  {
   "cell_type": "code",
   "execution_count": null,
   "metadata": {},
   "outputs": [],
   "source": [
    "with open('forecast_returns.pickle', 'wb') as f:\n",
    "    pickle.dump(forecast_returns, f, pickle.HIGHEST_PROTOCOL)"
   ]
  },
  {
   "cell_type": "code",
   "execution_count": null,
   "metadata": {},
   "outputs": [],
   "source": [
    "with open('pred_29zipcodes.pickle', 'wb') as f:\n",
    "    pickle.dump(pred_29zipcodes, f, pickle.HIGHEST_PROTOCOL)"
   ]
  }
 ],
 "metadata": {
  "kernelspec": {
   "display_name": "Python 3",
   "language": "python",
   "name": "python3"
  },
  "language_info": {
   "codemirror_mode": {
    "name": "ipython",
    "version": 3
   },
   "file_extension": ".py",
   "mimetype": "text/x-python",
   "name": "python",
   "nbconvert_exporter": "python",
   "pygments_lexer": "ipython3",
   "version": "3.7.3"
  }
 },
 "nbformat": 4,
 "nbformat_minor": 2
}
